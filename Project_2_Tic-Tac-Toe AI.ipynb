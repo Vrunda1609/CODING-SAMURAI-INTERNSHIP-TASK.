{
 "cells": [
  {
   "cell_type": "code",
   "execution_count": 11,
   "id": "7c04d164-b75e-4ce4-aab6-5424add9dbc9",
   "metadata": {},
   "outputs": [
    {
     "name": "stdin",
     "output_type": "stream",
     "text": [
      "Choose your symbol (X or O):  o\n"
     ]
    },
    {
     "name": "stdout",
     "output_type": "stream",
     "text": [
      "AI goes first!\n",
      "  |   |  \n",
      "---------\n",
      "  |   |  \n",
      "---------\n",
      "  |   |  \n",
      "---------\n",
      "X |   |  \n",
      "---------\n",
      "  |   |  \n",
      "---------\n",
      "  |   |  \n",
      "---------\n"
     ]
    },
    {
     "name": "stdin",
     "output_type": "stream",
     "text": [
      "Enter row and column (0-2):  1 1\n"
     ]
    },
    {
     "name": "stdout",
     "output_type": "stream",
     "text": [
      "X |   |  \n",
      "---------\n",
      "  | O |  \n",
      "---------\n",
      "  |   |  \n",
      "---------\n",
      "X | X |  \n",
      "---------\n",
      "  | O |  \n",
      "---------\n",
      "  |   |  \n",
      "---------\n"
     ]
    },
    {
     "name": "stdin",
     "output_type": "stream",
     "text": [
      "Enter row and column (0-2):  0 2\n"
     ]
    },
    {
     "name": "stdout",
     "output_type": "stream",
     "text": [
      "X | X | O\n",
      "---------\n",
      "  | O |  \n",
      "---------\n",
      "  |   |  \n",
      "---------\n",
      "X | X | O\n",
      "---------\n",
      "  | O |  \n",
      "---------\n",
      "X |   |  \n",
      "---------\n"
     ]
    },
    {
     "name": "stdin",
     "output_type": "stream",
     "text": [
      "Enter row and column (0-2):  1 1\n"
     ]
    },
    {
     "name": "stdout",
     "output_type": "stream",
     "text": [
      "Invalid move. Try again.\n",
      "X | X | O\n",
      "---------\n",
      "  | O |  \n",
      "---------\n",
      "X |   |  \n",
      "---------\n"
     ]
    },
    {
     "name": "stdin",
     "output_type": "stream",
     "text": [
      "Enter row and column (0-2):  1 0\n"
     ]
    },
    {
     "name": "stdout",
     "output_type": "stream",
     "text": [
      "X | X | O\n",
      "---------\n",
      "O | O |  \n",
      "---------\n",
      "X |   |  \n",
      "---------\n",
      "X | X | O\n",
      "---------\n",
      "O | O | X\n",
      "---------\n",
      "X |   |  \n",
      "---------\n"
     ]
    },
    {
     "name": "stdin",
     "output_type": "stream",
     "text": [
      "Enter row and column (0-2):  2 1\n"
     ]
    },
    {
     "name": "stdout",
     "output_type": "stream",
     "text": [
      "X | X | O\n",
      "---------\n",
      "O | O | X\n",
      "---------\n",
      "X | O |  \n",
      "---------\n",
      "X | X | O\n",
      "---------\n",
      "O | O | X\n",
      "---------\n",
      "X | O | X\n",
      "---------\n",
      "It's a tie!\n"
     ]
    }
   ],
   "source": [
    "import math\n",
    "import random\n",
    "\n",
    "def print_board(board):\n",
    "    for row in board:\n",
    "        print(\" | \".join(row))\n",
    "        print(\"-\" * 9)\n",
    "\n",
    "def check_winner(board):\n",
    "    for row in board:\n",
    "        if row[0] == row[1] == row[2] and row[0] != ' ':\n",
    "            return row[0]\n",
    "    \n",
    "    for col in range(3):\n",
    "        if board[0][col] == board[1][col] == board[2][col] and board[0][col] != ' ':\n",
    "            return board[0][col]\n",
    "    \n",
    "    if board[0][0] == board[1][1] == board[2][2] and board[0][0] != ' ':\n",
    "        return board[0][0]\n",
    "    \n",
    "    if board[0][2] == board[1][1] == board[2][0] and board[0][2] != ' ':\n",
    "        return board[0][2]\n",
    "    \n",
    "    return None\n",
    "\n",
    "def is_full(board):\n",
    "    return all(cell != ' ' for row in board for cell in row)\n",
    "\n",
    "def minimax(board, depth, is_maximizing):\n",
    "    winner = check_winner(board)\n",
    "    if winner == 'O':\n",
    "        return 10 - depth\n",
    "    if winner == 'X':\n",
    "        return depth - 10\n",
    "    if is_full(board):\n",
    "        return 0\n",
    "    \n",
    "    if is_maximizing:\n",
    "        best_score = -math.inf\n",
    "        for i in range(3):\n",
    "            for j in range(3):\n",
    "                if board[i][j] == ' ':\n",
    "                    board[i][j] = 'O'\n",
    "                    score = minimax(board, depth + 1, False)\n",
    "                    board[i][j] = ' '\n",
    "                    best_score = max(score, best_score)\n",
    "        return best_score\n",
    "    else:\n",
    "        best_score = math.inf\n",
    "        for i in range(3):\n",
    "            for j in range(3):\n",
    "                if board[i][j] == ' ':\n",
    "                    board[i][j] = 'X'\n",
    "                    score = minimax(board, depth + 1, True)\n",
    "                    board[i][j] = ' '\n",
    "                    best_score = min(score, best_score)\n",
    "        return best_score\n",
    "\n",
    "def best_move(board):\n",
    "    best_score = -math.inf\n",
    "    move = (-1, -1)\n",
    "    for i in range(3):\n",
    "        for j in range(3):\n",
    "            if board[i][j] == ' ':\n",
    "                board[i][j] = 'O'\n",
    "                score = minimax(board, 0, False)\n",
    "                board[i][j] = ' '\n",
    "                if score > best_score:\n",
    "                    best_score = score\n",
    "                    move = (i, j)\n",
    "    return move\n",
    "\n",
    "def tic_tac_toe():\n",
    "    board = [[' ' for _ in range(3)] for _ in range(3)]\n",
    "    player_symbol = input(\"Choose your symbol (X or O): \").upper()\n",
    "    ai_symbol = 'O' if player_symbol == 'X' else 'X'\n",
    "    first_player = random.choice(['Player', 'AI'])\n",
    "    print(f\"{first_player} goes first!\")\n",
    "    \n",
    "    while True:\n",
    "        print_board(board)\n",
    "        \n",
    "        if first_player == 'Player':\n",
    "            row, col = map(int, input(\"Enter row and column (0-2): \").split())\n",
    "            if board[row][col] != ' ':\n",
    "                print(\"Invalid move. Try again.\")\n",
    "                continue\n",
    "            board[row][col] = player_symbol\n",
    "            first_player = 'AI'\n",
    "        else:\n",
    "            ai_move = best_move(board)\n",
    "            board[ai_move[0]][ai_move[1]] = ai_symbol\n",
    "            first_player = 'Player'\n",
    "        \n",
    "        winner = check_winner(board)\n",
    "        if winner:\n",
    "            print_board(board)\n",
    "            if winner == player_symbol:\n",
    "                print(\"You win!\")\n",
    "            else:\n",
    "                print(\"AI wins!\")\n",
    "            break\n",
    "        if is_full(board):\n",
    "            print_board(board)\n",
    "            print(\"It's a tie!\")\n",
    "            break\n",
    "\n",
    "tic_tac_toe()"
   ]
  },
  {
   "cell_type": "code",
   "execution_count": null,
   "id": "68555986-b6fe-4518-b692-53b00aff9db4",
   "metadata": {},
   "outputs": [],
   "source": []
  }
 ],
 "metadata": {
  "kernelspec": {
   "display_name": "Python 3 (ipykernel)",
   "language": "python",
   "name": "python3"
  },
  "language_info": {
   "codemirror_mode": {
    "name": "ipython",
    "version": 3
   },
   "file_extension": ".py",
   "mimetype": "text/x-python",
   "name": "python",
   "nbconvert_exporter": "python",
   "pygments_lexer": "ipython3",
   "version": "3.12.4"
  }
 },
 "nbformat": 4,
 "nbformat_minor": 5
}
